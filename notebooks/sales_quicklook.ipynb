{
  "cells": [
    {
      "cell_type": "code",
      "execution_count": null,
      "metadata": {},
      "outputs": [],
      "source": [
        "import pandas as pd\n",
        "import matplotlib.pyplot as plt\n",
        "from pathlib import Path\n",
        "\n",
        "root = Path(__file__).resolve().parents[1]\n",
        "sales_path = root / 'data_crm' / 'processed_sales_latest.csv'\n",
        "df = pd.read_csv(sales_path)\n",
        "df.columns = [c.strip().lower() for c in df.columns]\n",
        "df['qty'] = pd.to_numeric(df.get('qty', 0), errors='coerce').fillna(0)\n",
        "df['sell_price'] = pd.to_numeric(df.get('sell_price', 0), errors='coerce').fillna(0)\n",
        "df['amount'] = df['qty'] * df['sell_price']\n",
        "print('Rows:', len(df))\n"
      ]
    },
    {
      "cell_type": "code",
      "execution_count": null,
      "metadata": {},
      "outputs": [],
      "source": [
        "top_sku = df.groupby('sku_id', dropna=False)['qty'].sum().reset_index().sort_values('qty', ascending=False).head(10)\n",
        "ax = top_sku.plot(kind='bar', x='sku_id', y='qty', figsize=(10,4), title='Top SKUs by Qty')\n",
        "plt.tight_layout()\n",
        "plt.show()\n"
      ]
    },
    {
      "cell_type": "code",
      "execution_count": null,
      "metadata": {},
      "outputs": [],
      "source": [
        "top_store = df.groupby('store_name', dropna=False)['qty'].sum().reset_index().sort_values('qty', ascending=False).head(10)\n",
        "ax = top_store.plot(kind='bar', x='store_name', y='qty', figsize=(10,4), title='Top Stores by Qty')\n",
        "plt.tight_layout()\n",
        "plt.show()\n"
      ]
    },
    {
      "cell_type": "code",
      "execution_count": null,
      "metadata": {},
      "outputs": [],
      "source": [
        "missing = (df.get('sku_id').astype(str).str.strip() == '')\n",
        "print('Missing SKU rows:', int(missing.sum()))\n",
        "df_missing = df[missing].head(20)\n",
        "df_missing[['orderid','store_name','sku_key','my_size']]\n"
      ]
    }
  ],
  "metadata": {
    "language_info": {
      "name": "python"
    }
  },
  "nbformat": 4,
  "nbformat_minor": 2
}
